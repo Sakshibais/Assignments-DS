{
 "cells": [
  {
   "cell_type": "code",
   "execution_count": 1,
   "id": "ef4cdfbf",
   "metadata": {
    "ExecuteTime": {
     "end_time": "2023-03-02T13:26:43.389161Z",
     "start_time": "2023-03-02T13:26:40.471059Z"
    }
   },
   "outputs": [],
   "source": [
    "import pandas as pd\n",
    "import numpy as np\n",
    "import matplotlib.pyplot as plt\n",
    "from mlxtend.frequent_patterns import apriori, association_rules"
   ]
  },
  {
   "cell_type": "markdown",
   "id": "10522795",
   "metadata": {},
   "source": [
    " 1) Try different values of support and confidence. Observe the change in number of rules for different support,confidence values 2) Change the minimum length in apriori algorithm 3) Visulize the obtained rules using different plots"
   ]
  },
  {
   "cell_type": "code",
   "execution_count": 2,
   "id": "cc605ef2",
   "metadata": {
    "ExecuteTime": {
     "end_time": "2023-02-15T14:08:03.315023Z",
     "start_time": "2023-02-15T14:08:03.211628Z"
    }
   },
   "outputs": [
    {
     "data": {
      "text/html": [
       "<div>\n",
       "<style scoped>\n",
       "    .dataframe tbody tr th:only-of-type {\n",
       "        vertical-align: middle;\n",
       "    }\n",
       "\n",
       "    .dataframe tbody tr th {\n",
       "        vertical-align: top;\n",
       "    }\n",
       "\n",
       "    .dataframe thead th {\n",
       "        text-align: right;\n",
       "    }\n",
       "</style>\n",
       "<table border=\"1\" class=\"dataframe\">\n",
       "  <thead>\n",
       "    <tr style=\"text-align: right;\">\n",
       "      <th></th>\n",
       "      <th>ChildBks</th>\n",
       "      <th>YouthBks</th>\n",
       "      <th>CookBks</th>\n",
       "      <th>DoItYBks</th>\n",
       "      <th>RefBks</th>\n",
       "      <th>ArtBks</th>\n",
       "      <th>GeogBks</th>\n",
       "      <th>ItalCook</th>\n",
       "      <th>ItalAtlas</th>\n",
       "      <th>ItalArt</th>\n",
       "      <th>Florence</th>\n",
       "    </tr>\n",
       "  </thead>\n",
       "  <tbody>\n",
       "    <tr>\n",
       "      <th>0</th>\n",
       "      <td>0</td>\n",
       "      <td>1</td>\n",
       "      <td>0</td>\n",
       "      <td>1</td>\n",
       "      <td>0</td>\n",
       "      <td>0</td>\n",
       "      <td>1</td>\n",
       "      <td>0</td>\n",
       "      <td>0</td>\n",
       "      <td>0</td>\n",
       "      <td>0</td>\n",
       "    </tr>\n",
       "    <tr>\n",
       "      <th>1</th>\n",
       "      <td>1</td>\n",
       "      <td>0</td>\n",
       "      <td>0</td>\n",
       "      <td>0</td>\n",
       "      <td>0</td>\n",
       "      <td>0</td>\n",
       "      <td>0</td>\n",
       "      <td>0</td>\n",
       "      <td>0</td>\n",
       "      <td>0</td>\n",
       "      <td>0</td>\n",
       "    </tr>\n",
       "    <tr>\n",
       "      <th>2</th>\n",
       "      <td>0</td>\n",
       "      <td>0</td>\n",
       "      <td>0</td>\n",
       "      <td>0</td>\n",
       "      <td>0</td>\n",
       "      <td>0</td>\n",
       "      <td>0</td>\n",
       "      <td>0</td>\n",
       "      <td>0</td>\n",
       "      <td>0</td>\n",
       "      <td>0</td>\n",
       "    </tr>\n",
       "    <tr>\n",
       "      <th>3</th>\n",
       "      <td>1</td>\n",
       "      <td>1</td>\n",
       "      <td>1</td>\n",
       "      <td>0</td>\n",
       "      <td>1</td>\n",
       "      <td>0</td>\n",
       "      <td>1</td>\n",
       "      <td>0</td>\n",
       "      <td>0</td>\n",
       "      <td>0</td>\n",
       "      <td>0</td>\n",
       "    </tr>\n",
       "    <tr>\n",
       "      <th>4</th>\n",
       "      <td>0</td>\n",
       "      <td>0</td>\n",
       "      <td>1</td>\n",
       "      <td>0</td>\n",
       "      <td>0</td>\n",
       "      <td>0</td>\n",
       "      <td>1</td>\n",
       "      <td>0</td>\n",
       "      <td>0</td>\n",
       "      <td>0</td>\n",
       "      <td>0</td>\n",
       "    </tr>\n",
       "  </tbody>\n",
       "</table>\n",
       "</div>"
      ],
      "text/plain": [
       "   ChildBks  YouthBks  CookBks  DoItYBks  RefBks  ArtBks  GeogBks  ItalCook  ItalAtlas  ItalArt  Florence\n",
       "0         0         1        0         1       0       0        1         0          0        0         0\n",
       "1         1         0        0         0       0       0        0         0          0        0         0\n",
       "2         0         0        0         0       0       0        0         0          0        0         0\n",
       "3         1         1        1         0       1       0        1         0          0        0         0\n",
       "4         0         0        1         0       0       0        1         0          0        0         0"
      ]
     },
     "execution_count": 2,
     "metadata": {},
     "output_type": "execute_result"
    }
   ],
   "source": [
    "book = pd.read_csv('book.csv')\n",
    "book.head()"
   ]
  },
  {
   "cell_type": "code",
   "execution_count": 3,
   "id": "bec22470",
   "metadata": {
    "ExecuteTime": {
     "end_time": "2023-02-15T14:08:51.532558Z",
     "start_time": "2023-02-15T14:08:51.513029Z"
    }
   },
   "outputs": [
    {
     "data": {
      "text/plain": [
       "ChildBks     0\n",
       "YouthBks     0\n",
       "CookBks      0\n",
       "DoItYBks     0\n",
       "RefBks       0\n",
       "ArtBks       0\n",
       "GeogBks      0\n",
       "ItalCook     0\n",
       "ItalAtlas    0\n",
       "ItalArt      0\n",
       "Florence     0\n",
       "dtype: int64"
      ]
     },
     "execution_count": 3,
     "metadata": {},
     "output_type": "execute_result"
    }
   ],
   "source": [
    "book.isna().sum()"
   ]
  },
  {
   "cell_type": "markdown",
   "id": "46702332",
   "metadata": {},
   "source": [
    "Association rule with 20% support and 50% confidence"
   ]
  },
  {
   "cell_type": "code",
   "execution_count": 4,
   "id": "82db3224",
   "metadata": {
    "ExecuteTime": {
     "end_time": "2023-02-15T14:11:22.923408Z",
     "start_time": "2023-02-15T14:11:22.902787Z"
    }
   },
   "outputs": [],
   "source": [
    "frequent_items = apriori(book, min_support=0.2, use_colnames=True)"
   ]
  },
  {
   "cell_type": "code",
   "execution_count": 5,
   "id": "5a55d396",
   "metadata": {
    "ExecuteTime": {
     "end_time": "2023-02-15T14:11:31.509797Z",
     "start_time": "2023-02-15T14:11:31.465254Z"
    }
   },
   "outputs": [
    {
     "data": {
      "text/html": [
       "<div>\n",
       "<style scoped>\n",
       "    .dataframe tbody tr th:only-of-type {\n",
       "        vertical-align: middle;\n",
       "    }\n",
       "\n",
       "    .dataframe tbody tr th {\n",
       "        vertical-align: top;\n",
       "    }\n",
       "\n",
       "    .dataframe thead th {\n",
       "        text-align: right;\n",
       "    }\n",
       "</style>\n",
       "<table border=\"1\" class=\"dataframe\">\n",
       "  <thead>\n",
       "    <tr style=\"text-align: right;\">\n",
       "      <th></th>\n",
       "      <th>support</th>\n",
       "      <th>itemsets</th>\n",
       "    </tr>\n",
       "  </thead>\n",
       "  <tbody>\n",
       "    <tr>\n",
       "      <th>0</th>\n",
       "      <td>0.4230</td>\n",
       "      <td>(ChildBks)</td>\n",
       "    </tr>\n",
       "    <tr>\n",
       "      <th>1</th>\n",
       "      <td>0.2475</td>\n",
       "      <td>(YouthBks)</td>\n",
       "    </tr>\n",
       "    <tr>\n",
       "      <th>2</th>\n",
       "      <td>0.4310</td>\n",
       "      <td>(CookBks)</td>\n",
       "    </tr>\n",
       "    <tr>\n",
       "      <th>3</th>\n",
       "      <td>0.2820</td>\n",
       "      <td>(DoItYBks)</td>\n",
       "    </tr>\n",
       "    <tr>\n",
       "      <th>4</th>\n",
       "      <td>0.2145</td>\n",
       "      <td>(RefBks)</td>\n",
       "    </tr>\n",
       "    <tr>\n",
       "      <th>5</th>\n",
       "      <td>0.2410</td>\n",
       "      <td>(ArtBks)</td>\n",
       "    </tr>\n",
       "    <tr>\n",
       "      <th>6</th>\n",
       "      <td>0.2760</td>\n",
       "      <td>(GeogBks)</td>\n",
       "    </tr>\n",
       "    <tr>\n",
       "      <th>7</th>\n",
       "      <td>0.2560</td>\n",
       "      <td>(ChildBks, CookBks)</td>\n",
       "    </tr>\n",
       "  </tbody>\n",
       "</table>\n",
       "</div>"
      ],
      "text/plain": [
       "   support             itemsets\n",
       "0   0.4230           (ChildBks)\n",
       "1   0.2475           (YouthBks)\n",
       "2   0.4310            (CookBks)\n",
       "3   0.2820           (DoItYBks)\n",
       "4   0.2145             (RefBks)\n",
       "5   0.2410             (ArtBks)\n",
       "6   0.2760            (GeogBks)\n",
       "7   0.2560  (ChildBks, CookBks)"
      ]
     },
     "execution_count": 5,
     "metadata": {},
     "output_type": "execute_result"
    }
   ],
   "source": [
    "frequent_items"
   ]
  },
  {
   "cell_type": "code",
   "execution_count": 6,
   "id": "c85805bf",
   "metadata": {
    "ExecuteTime": {
     "end_time": "2023-02-15T14:12:00.201611Z",
     "start_time": "2023-02-15T14:12:00.181611Z"
    }
   },
   "outputs": [],
   "source": [
    "model_1= association_rules(frequent_items, metric='lift',min_threshold=0.5)"
   ]
  },
  {
   "cell_type": "code",
   "execution_count": 7,
   "id": "9f802b5a",
   "metadata": {
    "ExecuteTime": {
     "end_time": "2023-02-15T14:12:06.668979Z",
     "start_time": "2023-02-15T14:12:06.632628Z"
    }
   },
   "outputs": [
    {
     "data": {
      "text/html": [
       "<div>\n",
       "<style scoped>\n",
       "    .dataframe tbody tr th:only-of-type {\n",
       "        vertical-align: middle;\n",
       "    }\n",
       "\n",
       "    .dataframe tbody tr th {\n",
       "        vertical-align: top;\n",
       "    }\n",
       "\n",
       "    .dataframe thead th {\n",
       "        text-align: right;\n",
       "    }\n",
       "</style>\n",
       "<table border=\"1\" class=\"dataframe\">\n",
       "  <thead>\n",
       "    <tr style=\"text-align: right;\">\n",
       "      <th></th>\n",
       "      <th>antecedents</th>\n",
       "      <th>consequents</th>\n",
       "      <th>antecedent support</th>\n",
       "      <th>consequent support</th>\n",
       "      <th>support</th>\n",
       "      <th>confidence</th>\n",
       "      <th>lift</th>\n",
       "      <th>leverage</th>\n",
       "      <th>conviction</th>\n",
       "    </tr>\n",
       "  </thead>\n",
       "  <tbody>\n",
       "    <tr>\n",
       "      <th>0</th>\n",
       "      <td>(ChildBks)</td>\n",
       "      <td>(CookBks)</td>\n",
       "      <td>0.423</td>\n",
       "      <td>0.431</td>\n",
       "      <td>0.256</td>\n",
       "      <td>0.605201</td>\n",
       "      <td>1.404179</td>\n",
       "      <td>0.073687</td>\n",
       "      <td>1.441240</td>\n",
       "    </tr>\n",
       "    <tr>\n",
       "      <th>1</th>\n",
       "      <td>(CookBks)</td>\n",
       "      <td>(ChildBks)</td>\n",
       "      <td>0.431</td>\n",
       "      <td>0.423</td>\n",
       "      <td>0.256</td>\n",
       "      <td>0.593968</td>\n",
       "      <td>1.404179</td>\n",
       "      <td>0.073687</td>\n",
       "      <td>1.421069</td>\n",
       "    </tr>\n",
       "  </tbody>\n",
       "</table>\n",
       "</div>"
      ],
      "text/plain": [
       "  antecedents consequents  antecedent support  consequent support  support  confidence      lift  leverage  conviction\n",
       "0  (ChildBks)   (CookBks)               0.423               0.431    0.256    0.605201  1.404179  0.073687    1.441240\n",
       "1   (CookBks)  (ChildBks)               0.431               0.423    0.256    0.593968  1.404179  0.073687    1.421069"
      ]
     },
     "execution_count": 7,
     "metadata": {},
     "output_type": "execute_result"
    }
   ],
   "source": [
    "model_1"
   ]
  },
  {
   "cell_type": "code",
   "execution_count": 8,
   "id": "82c30ef7",
   "metadata": {
    "ExecuteTime": {
     "end_time": "2023-02-15T14:12:27.546428Z",
     "start_time": "2023-02-15T14:12:27.500256Z"
    }
   },
   "outputs": [
    {
     "data": {
      "text/html": [
       "<div>\n",
       "<style scoped>\n",
       "    .dataframe tbody tr th:only-of-type {\n",
       "        vertical-align: middle;\n",
       "    }\n",
       "\n",
       "    .dataframe tbody tr th {\n",
       "        vertical-align: top;\n",
       "    }\n",
       "\n",
       "    .dataframe thead th {\n",
       "        text-align: right;\n",
       "    }\n",
       "</style>\n",
       "<table border=\"1\" class=\"dataframe\">\n",
       "  <thead>\n",
       "    <tr style=\"text-align: right;\">\n",
       "      <th></th>\n",
       "      <th>antecedents</th>\n",
       "      <th>consequents</th>\n",
       "      <th>antecedent support</th>\n",
       "      <th>consequent support</th>\n",
       "      <th>support</th>\n",
       "      <th>confidence</th>\n",
       "      <th>lift</th>\n",
       "      <th>leverage</th>\n",
       "      <th>conviction</th>\n",
       "    </tr>\n",
       "  </thead>\n",
       "  <tbody>\n",
       "    <tr>\n",
       "      <th>0</th>\n",
       "      <td>(ChildBks)</td>\n",
       "      <td>(CookBks)</td>\n",
       "      <td>0.423</td>\n",
       "      <td>0.431</td>\n",
       "      <td>0.256</td>\n",
       "      <td>0.605201</td>\n",
       "      <td>1.404179</td>\n",
       "      <td>0.073687</td>\n",
       "      <td>1.441240</td>\n",
       "    </tr>\n",
       "    <tr>\n",
       "      <th>1</th>\n",
       "      <td>(CookBks)</td>\n",
       "      <td>(ChildBks)</td>\n",
       "      <td>0.431</td>\n",
       "      <td>0.423</td>\n",
       "      <td>0.256</td>\n",
       "      <td>0.593968</td>\n",
       "      <td>1.404179</td>\n",
       "      <td>0.073687</td>\n",
       "      <td>1.421069</td>\n",
       "    </tr>\n",
       "  </tbody>\n",
       "</table>\n",
       "</div>"
      ],
      "text/plain": [
       "  antecedents consequents  antecedent support  consequent support  support  confidence      lift  leverage  conviction\n",
       "0  (ChildBks)   (CookBks)               0.423               0.431    0.256    0.605201  1.404179  0.073687    1.441240\n",
       "1   (CookBks)  (ChildBks)               0.431               0.423    0.256    0.593968  1.404179  0.073687    1.421069"
      ]
     },
     "execution_count": 8,
     "metadata": {},
     "output_type": "execute_result"
    }
   ],
   "source": [
    "model_1[model_1['lift']>1]"
   ]
  },
  {
   "cell_type": "code",
   "execution_count": 9,
   "id": "02f63569",
   "metadata": {
    "ExecuteTime": {
     "end_time": "2023-02-15T14:12:51.024838Z",
     "start_time": "2023-02-15T14:12:50.736259Z"
    }
   },
   "outputs": [
    {
     "data": {
      "image/png": "[encoded data removed]",
      "text/plain": [
       "<Figure size 640x480 with 1 Axes>"
      ]
     },
     "metadata": {},
     "output_type": "display_data"
    }
   ],
   "source": [
    "# visualization of obtained rule\n",
    "plt.scatter(model_1['support'],model_1['confidence'])\n",
    "plt.xlabel('support')\n",
    "plt.ylabel('confidence') \n",
    "plt.show()\n"
   ]
  },
  {
   "cell_type": "markdown",
   "id": "e355444a",
   "metadata": {},
   "source": [
    "Association rule with 5% support and 80% confidence"
   ]
  },
  {
   "cell_type": "code",
   "execution_count": 10,
   "id": "26913232",
   "metadata": {
    "ExecuteTime": {
     "end_time": "2023-02-15T14:13:46.215206Z",
     "start_time": "2023-02-15T14:13:46.189292Z"
    }
   },
   "outputs": [],
   "source": [
    "frequent_items1 = apriori(book, min_support=0.05, use_colnames=True)"
   ]
  },
  {
   "cell_type": "code",
   "execution_count": 11,
   "id": "a424db2d",
   "metadata": {
    "ExecuteTime": {
     "end_time": "2023-02-15T14:13:53.899228Z",
     "start_time": "2023-02-15T14:13:53.869353Z"
    }
   },
   "outputs": [
    {
     "data": {
      "text/html": [
       "<div>\n",
       "<style scoped>\n",
       "    .dataframe tbody tr th:only-of-type {\n",
       "        vertical-align: middle;\n",
       "    }\n",
       "\n",
       "    .dataframe tbody tr th {\n",
       "        vertical-align: top;\n",
       "    }\n",
       "\n",
       "    .dataframe thead th {\n",
       "        text-align: right;\n",
       "    }\n",
       "</style>\n",
       "<table border=\"1\" class=\"dataframe\">\n",
       "  <thead>\n",
       "    <tr style=\"text-align: right;\">\n",
       "      <th></th>\n",
       "      <th>support</th>\n",
       "      <th>itemsets</th>\n",
       "    </tr>\n",
       "  </thead>\n",
       "  <tbody>\n",
       "    <tr>\n",
       "      <th>0</th>\n",
       "      <td>0.4230</td>\n",
       "      <td>(ChildBks)</td>\n",
       "    </tr>\n",
       "    <tr>\n",
       "      <th>1</th>\n",
       "      <td>0.2475</td>\n",
       "      <td>(YouthBks)</td>\n",
       "    </tr>\n",
       "    <tr>\n",
       "      <th>2</th>\n",
       "      <td>0.4310</td>\n",
       "      <td>(CookBks)</td>\n",
       "    </tr>\n",
       "    <tr>\n",
       "      <th>3</th>\n",
       "      <td>0.2820</td>\n",
       "      <td>(DoItYBks)</td>\n",
       "    </tr>\n",
       "    <tr>\n",
       "      <th>4</th>\n",
       "      <td>0.2145</td>\n",
       "      <td>(RefBks)</td>\n",
       "    </tr>\n",
       "    <tr>\n",
       "      <th>...</th>\n",
       "      <td>...</td>\n",
       "      <td>...</td>\n",
       "    </tr>\n",
       "    <tr>\n",
       "      <th>95</th>\n",
       "      <td>0.0600</td>\n",
       "      <td>(DoItYBks, CookBks, YouthBks, GeogBks)</td>\n",
       "    </tr>\n",
       "    <tr>\n",
       "      <th>96</th>\n",
       "      <td>0.0560</td>\n",
       "      <td>(ArtBks, CookBks, YouthBks, GeogBks)</td>\n",
       "    </tr>\n",
       "    <tr>\n",
       "      <th>97</th>\n",
       "      <td>0.0650</td>\n",
       "      <td>(DoItYBks, CookBks, ArtBks, GeogBks)</td>\n",
       "    </tr>\n",
       "    <tr>\n",
       "      <th>98</th>\n",
       "      <td>0.0510</td>\n",
       "      <td>(ChildBks, CookBks, YouthBks, DoItYBks, GeogBks)</td>\n",
       "    </tr>\n",
       "    <tr>\n",
       "      <th>99</th>\n",
       "      <td>0.0535</td>\n",
       "      <td>(ArtBks, ChildBks, CookBks, DoItYBks, GeogBks)</td>\n",
       "    </tr>\n",
       "  </tbody>\n",
       "</table>\n",
       "<p>100 rows × 2 columns</p>\n",
       "</div>"
      ],
      "text/plain": [
       "    support                                          itemsets\n",
       "0    0.4230                                        (ChildBks)\n",
       "1    0.2475                                        (YouthBks)\n",
       "2    0.4310                                         (CookBks)\n",
       "3    0.2820                                        (DoItYBks)\n",
       "4    0.2145                                          (RefBks)\n",
       "..      ...                                               ...\n",
       "95   0.0600            (DoItYBks, CookBks, YouthBks, GeogBks)\n",
       "96   0.0560              (ArtBks, CookBks, YouthBks, GeogBks)\n",
       "97   0.0650              (DoItYBks, CookBks, ArtBks, GeogBks)\n",
       "98   0.0510  (ChildBks, CookBks, YouthBks, DoItYBks, GeogBks)\n",
       "99   0.0535    (ArtBks, ChildBks, CookBks, DoItYBks, GeogBks)\n",
       "\n",
       "[100 rows x 2 columns]"
      ]
     },
     "execution_count": 11,
     "metadata": {},
     "output_type": "execute_result"
    }
   ],
   "source": [
    "frequent_items1"
   ]
  },
  {
   "cell_type": "code",
   "execution_count": 12,
   "id": "4b2d371d",
   "metadata": {
    "ExecuteTime": {
     "end_time": "2023-02-15T14:14:18.141173Z",
     "start_time": "2023-02-15T14:14:18.118344Z"
    }
   },
   "outputs": [],
   "source": [
    "model_2 = association_rules(frequent_items1, metric='lift',min_threshold=0.8)"
   ]
  },
  {
   "cell_type": "code",
   "execution_count": 13,
   "id": "6db987c8",
   "metadata": {
    "ExecuteTime": {
     "end_time": "2023-02-15T14:14:22.777416Z",
     "start_time": "2023-02-15T14:14:22.730108Z"
    }
   },
   "outputs": [
    {
     "data": {
      "text/html": [
       "<div>\n",
       "<style scoped>\n",
       "    .dataframe tbody tr th:only-of-type {\n",
       "        vertical-align: middle;\n",
       "    }\n",
       "\n",
       "    .dataframe tbody tr th {\n",
       "        vertical-align: top;\n",
       "    }\n",
       "\n",
       "    .dataframe thead th {\n",
       "        text-align: right;\n",
       "    }\n",
       "</style>\n",
       "<table border=\"1\" class=\"dataframe\">\n",
       "  <thead>\n",
       "    <tr style=\"text-align: right;\">\n",
       "      <th></th>\n",
       "      <th>antecedents</th>\n",
       "      <th>consequents</th>\n",
       "      <th>antecedent support</th>\n",
       "      <th>consequent support</th>\n",
       "      <th>support</th>\n",
       "      <th>confidence</th>\n",
       "      <th>lift</th>\n",
       "      <th>leverage</th>\n",
       "      <th>conviction</th>\n",
       "    </tr>\n",
       "  </thead>\n",
       "  <tbody>\n",
       "    <tr>\n",
       "      <th>0</th>\n",
       "      <td>(ChildBks)</td>\n",
       "      <td>(YouthBks)</td>\n",
       "      <td>0.4230</td>\n",
       "      <td>0.2475</td>\n",
       "      <td>0.1650</td>\n",
       "      <td>0.390071</td>\n",
       "      <td>1.576044</td>\n",
       "      <td>0.060308</td>\n",
       "      <td>1.233750</td>\n",
       "    </tr>\n",
       "    <tr>\n",
       "      <th>1</th>\n",
       "      <td>(YouthBks)</td>\n",
       "      <td>(ChildBks)</td>\n",
       "      <td>0.2475</td>\n",
       "      <td>0.4230</td>\n",
       "      <td>0.1650</td>\n",
       "      <td>0.666667</td>\n",
       "      <td>1.576044</td>\n",
       "      <td>0.060308</td>\n",
       "      <td>1.731000</td>\n",
       "    </tr>\n",
       "    <tr>\n",
       "      <th>2</th>\n",
       "      <td>(ChildBks)</td>\n",
       "      <td>(CookBks)</td>\n",
       "      <td>0.4230</td>\n",
       "      <td>0.4310</td>\n",
       "      <td>0.2560</td>\n",
       "      <td>0.605201</td>\n",
       "      <td>1.404179</td>\n",
       "      <td>0.073687</td>\n",
       "      <td>1.441240</td>\n",
       "    </tr>\n",
       "    <tr>\n",
       "      <th>3</th>\n",
       "      <td>(CookBks)</td>\n",
       "      <td>(ChildBks)</td>\n",
       "      <td>0.4310</td>\n",
       "      <td>0.4230</td>\n",
       "      <td>0.2560</td>\n",
       "      <td>0.593968</td>\n",
       "      <td>1.404179</td>\n",
       "      <td>0.073687</td>\n",
       "      <td>1.421069</td>\n",
       "    </tr>\n",
       "    <tr>\n",
       "      <th>4</th>\n",
       "      <td>(ChildBks)</td>\n",
       "      <td>(DoItYBks)</td>\n",
       "      <td>0.4230</td>\n",
       "      <td>0.2820</td>\n",
       "      <td>0.1840</td>\n",
       "      <td>0.434988</td>\n",
       "      <td>1.542511</td>\n",
       "      <td>0.064714</td>\n",
       "      <td>1.270770</td>\n",
       "    </tr>\n",
       "    <tr>\n",
       "      <th>...</th>\n",
       "      <td>...</td>\n",
       "      <td>...</td>\n",
       "      <td>...</td>\n",
       "      <td>...</td>\n",
       "      <td>...</td>\n",
       "      <td>...</td>\n",
       "      <td>...</td>\n",
       "      <td>...</td>\n",
       "      <td>...</td>\n",
       "    </tr>\n",
       "    <tr>\n",
       "      <th>657</th>\n",
       "      <td>(ArtBks)</td>\n",
       "      <td>(DoItYBks, ChildBks, CookBks, GeogBks)</td>\n",
       "      <td>0.2410</td>\n",
       "      <td>0.0890</td>\n",
       "      <td>0.0535</td>\n",
       "      <td>0.221992</td>\n",
       "      <td>2.494289</td>\n",
       "      <td>0.032051</td>\n",
       "      <td>1.170939</td>\n",
       "    </tr>\n",
       "    <tr>\n",
       "      <th>658</th>\n",
       "      <td>(ChildBks)</td>\n",
       "      <td>(DoItYBks, CookBks, ArtBks, GeogBks)</td>\n",
       "      <td>0.4230</td>\n",
       "      <td>0.0650</td>\n",
       "      <td>0.0535</td>\n",
       "      <td>0.126478</td>\n",
       "      <td>1.945808</td>\n",
       "      <td>0.026005</td>\n",
       "      <td>1.070379</td>\n",
       "    </tr>\n",
       "    <tr>\n",
       "      <th>659</th>\n",
       "      <td>(CookBks)</td>\n",
       "      <td>(ChildBks, DoItYBks, ArtBks, GeogBks)</td>\n",
       "      <td>0.4310</td>\n",
       "      <td>0.0595</td>\n",
       "      <td>0.0535</td>\n",
       "      <td>0.124130</td>\n",
       "      <td>2.086217</td>\n",
       "      <td>0.027856</td>\n",
       "      <td>1.073789</td>\n",
       "    </tr>\n",
       "    <tr>\n",
       "      <th>660</th>\n",
       "      <td>(DoItYBks)</td>\n",
       "      <td>(ChildBks, CookBks, ArtBks, GeogBks)</td>\n",
       "      <td>0.2820</td>\n",
       "      <td>0.0835</td>\n",
       "      <td>0.0535</td>\n",
       "      <td>0.189716</td>\n",
       "      <td>2.272052</td>\n",
       "      <td>0.029953</td>\n",
       "      <td>1.131085</td>\n",
       "    </tr>\n",
       "    <tr>\n",
       "      <th>661</th>\n",
       "      <td>(GeogBks)</td>\n",
       "      <td>(DoItYBks, ChildBks, CookBks, ArtBks)</td>\n",
       "      <td>0.2760</td>\n",
       "      <td>0.0820</td>\n",
       "      <td>0.0535</td>\n",
       "      <td>0.193841</td>\n",
       "      <td>2.363910</td>\n",
       "      <td>0.030868</td>\n",
       "      <td>1.138733</td>\n",
       "    </tr>\n",
       "  </tbody>\n",
       "</table>\n",
       "<p>662 rows × 9 columns</p>\n",
       "</div>"
      ],
      "text/plain": [
       "    antecedents                             consequents  antecedent support  ...      lift  leverage  conviction\n",
       "0    (ChildBks)                              (YouthBks)              0.4230  ...  1.576044  0.060308    1.233750\n",
       "1    (YouthBks)                              (ChildBks)              0.2475  ...  1.576044  0.060308    1.731000\n",
       "2    (ChildBks)                               (CookBks)              0.4230  ...  1.404179  0.073687    1.441240\n",
       "3     (CookBks)                              (ChildBks)              0.4310  ...  1.404179  0.073687    1.421069\n",
       "4    (ChildBks)                              (DoItYBks)              0.4230  ...  1.542511  0.064714    1.270770\n",
       "..          ...                                     ...                 ...  ...       ...       ...         ...\n",
       "657    (ArtBks)  (DoItYBks, ChildBks, CookBks, GeogBks)              0.2410  ...  2.494289  0.032051    1.170939\n",
       "658  (ChildBks)    (DoItYBks, CookBks, ArtBks, GeogBks)              0.4230  ...  1.945808  0.026005    1.070379\n",
       "659   (CookBks)   (ChildBks, DoItYBks, ArtBks, GeogBks)              0.4310  ...  2.086217  0.027856    1.073789\n",
       "660  (DoItYBks)    (ChildBks, CookBks, ArtBks, GeogBks)              0.2820  ...  2.272052  0.029953    1.131085\n",
       "661   (GeogBks)   (DoItYBks, ChildBks, CookBks, ArtBks)              0.2760  ...  2.363910  0.030868    1.138733\n",
       "\n",
       "[662 rows x 9 columns]"
      ]
     },
     "execution_count": 13,
     "metadata": {},
     "output_type": "execute_result"
    }
   ],
   "source": [
    "model_2"
   ]
  },
  {
   "cell_type": "code",
   "execution_count": 14,
   "id": "4547cfe9",
   "metadata": {
    "ExecuteTime": {
     "end_time": "2023-02-15T14:14:48.572133Z",
     "start_time": "2023-02-15T14:14:48.509940Z"
    }
   },
   "outputs": [
    {
     "data": {
      "text/html": [
       "<div>\n",
       "<style scoped>\n",
       "    .dataframe tbody tr th:only-of-type {\n",
       "        vertical-align: middle;\n",
       "    }\n",
       "\n",
       "    .dataframe tbody tr th {\n",
       "        vertical-align: top;\n",
       "    }\n",
       "\n",
       "    .dataframe thead th {\n",
       "        text-align: right;\n",
       "    }\n",
       "</style>\n",
       "<table border=\"1\" class=\"dataframe\">\n",
       "  <thead>\n",
       "    <tr style=\"text-align: right;\">\n",
       "      <th></th>\n",
       "      <th>antecedents</th>\n",
       "      <th>consequents</th>\n",
       "      <th>antecedent support</th>\n",
       "      <th>consequent support</th>\n",
       "      <th>support</th>\n",
       "      <th>confidence</th>\n",
       "      <th>lift</th>\n",
       "      <th>leverage</th>\n",
       "      <th>conviction</th>\n",
       "    </tr>\n",
       "  </thead>\n",
       "  <tbody>\n",
       "    <tr>\n",
       "      <th>0</th>\n",
       "      <td>(ChildBks)</td>\n",
       "      <td>(YouthBks)</td>\n",
       "      <td>0.4230</td>\n",
       "      <td>0.2475</td>\n",
       "      <td>0.1650</td>\n",
       "      <td>0.390071</td>\n",
       "      <td>1.576044</td>\n",
       "      <td>0.060308</td>\n",
       "      <td>1.233750</td>\n",
       "    </tr>\n",
       "    <tr>\n",
       "      <th>1</th>\n",
       "      <td>(YouthBks)</td>\n",
       "      <td>(ChildBks)</td>\n",
       "      <td>0.2475</td>\n",
       "      <td>0.4230</td>\n",
       "      <td>0.1650</td>\n",
       "      <td>0.666667</td>\n",
       "      <td>1.576044</td>\n",
       "      <td>0.060308</td>\n",
       "      <td>1.731000</td>\n",
       "    </tr>\n",
       "    <tr>\n",
       "      <th>2</th>\n",
       "      <td>(ChildBks)</td>\n",
       "      <td>(CookBks)</td>\n",
       "      <td>0.4230</td>\n",
       "      <td>0.4310</td>\n",
       "      <td>0.2560</td>\n",
       "      <td>0.605201</td>\n",
       "      <td>1.404179</td>\n",
       "      <td>0.073687</td>\n",
       "      <td>1.441240</td>\n",
       "    </tr>\n",
       "    <tr>\n",
       "      <th>3</th>\n",
       "      <td>(CookBks)</td>\n",
       "      <td>(ChildBks)</td>\n",
       "      <td>0.4310</td>\n",
       "      <td>0.4230</td>\n",
       "      <td>0.2560</td>\n",
       "      <td>0.593968</td>\n",
       "      <td>1.404179</td>\n",
       "      <td>0.073687</td>\n",
       "      <td>1.421069</td>\n",
       "    </tr>\n",
       "    <tr>\n",
       "      <th>4</th>\n",
       "      <td>(ChildBks)</td>\n",
       "      <td>(DoItYBks)</td>\n",
       "      <td>0.4230</td>\n",
       "      <td>0.2820</td>\n",
       "      <td>0.1840</td>\n",
       "      <td>0.434988</td>\n",
       "      <td>1.542511</td>\n",
       "      <td>0.064714</td>\n",
       "      <td>1.270770</td>\n",
       "    </tr>\n",
       "    <tr>\n",
       "      <th>...</th>\n",
       "      <td>...</td>\n",
       "      <td>...</td>\n",
       "      <td>...</td>\n",
       "      <td>...</td>\n",
       "      <td>...</td>\n",
       "      <td>...</td>\n",
       "      <td>...</td>\n",
       "      <td>...</td>\n",
       "      <td>...</td>\n",
       "    </tr>\n",
       "    <tr>\n",
       "      <th>657</th>\n",
       "      <td>(ArtBks)</td>\n",
       "      <td>(DoItYBks, ChildBks, CookBks, GeogBks)</td>\n",
       "      <td>0.2410</td>\n",
       "      <td>0.0890</td>\n",
       "      <td>0.0535</td>\n",
       "      <td>0.221992</td>\n",
       "      <td>2.494289</td>\n",
       "      <td>0.032051</td>\n",
       "      <td>1.170939</td>\n",
       "    </tr>\n",
       "    <tr>\n",
       "      <th>658</th>\n",
       "      <td>(ChildBks)</td>\n",
       "      <td>(DoItYBks, CookBks, ArtBks, GeogBks)</td>\n",
       "      <td>0.4230</td>\n",
       "      <td>0.0650</td>\n",
       "      <td>0.0535</td>\n",
       "      <td>0.126478</td>\n",
       "      <td>1.945808</td>\n",
       "      <td>0.026005</td>\n",
       "      <td>1.070379</td>\n",
       "    </tr>\n",
       "    <tr>\n",
       "      <th>659</th>\n",
       "      <td>(CookBks)</td>\n",
       "      <td>(ChildBks, DoItYBks, ArtBks, GeogBks)</td>\n",
       "      <td>0.4310</td>\n",
       "      <td>0.0595</td>\n",
       "      <td>0.0535</td>\n",
       "      <td>0.124130</td>\n",
       "      <td>2.086217</td>\n",
       "      <td>0.027856</td>\n",
       "      <td>1.073789</td>\n",
       "    </tr>\n",
       "    <tr>\n",
       "      <th>660</th>\n",
       "      <td>(DoItYBks)</td>\n",
       "      <td>(ChildBks, CookBks, ArtBks, GeogBks)</td>\n",
       "      <td>0.2820</td>\n",
       "      <td>0.0835</td>\n",
       "      <td>0.0535</td>\n",
       "      <td>0.189716</td>\n",
       "      <td>2.272052</td>\n",
       "      <td>0.029953</td>\n",
       "      <td>1.131085</td>\n",
       "    </tr>\n",
       "    <tr>\n",
       "      <th>661</th>\n",
       "      <td>(GeogBks)</td>\n",
       "      <td>(DoItYBks, ChildBks, CookBks, ArtBks)</td>\n",
       "      <td>0.2760</td>\n",
       "      <td>0.0820</td>\n",
       "      <td>0.0535</td>\n",
       "      <td>0.193841</td>\n",
       "      <td>2.363910</td>\n",
       "      <td>0.030868</td>\n",
       "      <td>1.138733</td>\n",
       "    </tr>\n",
       "  </tbody>\n",
       "</table>\n",
       "<p>662 rows × 9 columns</p>\n",
       "</div>"
      ],
      "text/plain": [
       "    antecedents                             consequents  antecedent support  ...      lift  leverage  conviction\n",
       "0    (ChildBks)                              (YouthBks)              0.4230  ...  1.576044  0.060308    1.233750\n",
       "1    (YouthBks)                              (ChildBks)              0.2475  ...  1.576044  0.060308    1.731000\n",
       "2    (ChildBks)                               (CookBks)              0.4230  ...  1.404179  0.073687    1.441240\n",
       "3     (CookBks)                              (ChildBks)              0.4310  ...  1.404179  0.073687    1.421069\n",
       "4    (ChildBks)                              (DoItYBks)              0.4230  ...  1.542511  0.064714    1.270770\n",
       "..          ...                                     ...                 ...  ...       ...       ...         ...\n",
       "657    (ArtBks)  (DoItYBks, ChildBks, CookBks, GeogBks)              0.2410  ...  2.494289  0.032051    1.170939\n",
       "658  (ChildBks)    (DoItYBks, CookBks, ArtBks, GeogBks)              0.4230  ...  1.945808  0.026005    1.070379\n",
       "659   (CookBks)   (ChildBks, DoItYBks, ArtBks, GeogBks)              0.4310  ...  2.086217  0.027856    1.073789\n",
       "660  (DoItYBks)    (ChildBks, CookBks, ArtBks, GeogBks)              0.2820  ...  2.272052  0.029953    1.131085\n",
       "661   (GeogBks)   (DoItYBks, ChildBks, CookBks, ArtBks)              0.2760  ...  2.363910  0.030868    1.138733\n",
       "\n",
       "[662 rows x 9 columns]"
      ]
     },
     "execution_count": 14,
     "metadata": {},
     "output_type": "execute_result"
    }
   ],
   "source": [
    "model_2[model_2['lift']>1]"
   ]
  },
  {
   "cell_type": "code",
   "execution_count": 15,
   "id": "b5ac0144",
   "metadata": {
    "ExecuteTime": {
     "end_time": "2023-02-15T14:15:13.209865Z",
     "start_time": "2023-02-15T14:15:13.039041Z"
    }
   },
   "outputs": [
    {
     "data": {
      "image/png": "[encoded data removed]",
      "text/plain": [
       "<Figure size 640x480 with 1 Axes>"
      ]
     },
     "metadata": {},
     "output_type": "display_data"
    }
   ],
   "source": [
    "plt.scatter(model_2['support'],model_2['confidence'])\n",
    "plt.xlabel('support')\n",
    "plt.ylabel('confidence') \n",
    "plt.show()"
   ]
  },
  {
   "cell_type": "markdown",
   "id": "ea02bf8c",
   "metadata": {},
   "source": [
    "Association rule with 20% support and 60% confidence and Length=2"
   ]
  },
  {
   "cell_type": "code",
   "execution_count": 16,
   "id": "18b14560",
   "metadata": {
    "ExecuteTime": {
     "end_time": "2023-02-15T14:16:00.760774Z",
     "start_time": "2023-02-15T14:16:00.738989Z"
    }
   },
   "outputs": [],
   "source": [
    "frequent_items3 = apriori(book, min_support=0.2, max_len=2, use_colnames=True)"
   ]
  },
  {
   "cell_type": "code",
   "execution_count": 17,
   "id": "1caeace0",
   "metadata": {
    "ExecuteTime": {
     "end_time": "2023-02-15T14:16:13.319933Z",
     "start_time": "2023-02-15T14:16:13.293777Z"
    }
   },
   "outputs": [
    {
     "data": {
      "text/html": [
       "<div>\n",
       "<style scoped>\n",
       "    .dataframe tbody tr th:only-of-type {\n",
       "        vertical-align: middle;\n",
       "    }\n",
       "\n",
       "    .dataframe tbody tr th {\n",
       "        vertical-align: top;\n",
       "    }\n",
       "\n",
       "    .dataframe thead th {\n",
       "        text-align: right;\n",
       "    }\n",
       "</style>\n",
       "<table border=\"1\" class=\"dataframe\">\n",
       "  <thead>\n",
       "    <tr style=\"text-align: right;\">\n",
       "      <th></th>\n",
       "      <th>support</th>\n",
       "      <th>itemsets</th>\n",
       "    </tr>\n",
       "  </thead>\n",
       "  <tbody>\n",
       "    <tr>\n",
       "      <th>0</th>\n",
       "      <td>0.4230</td>\n",
       "      <td>(ChildBks)</td>\n",
       "    </tr>\n",
       "    <tr>\n",
       "      <th>1</th>\n",
       "      <td>0.2475</td>\n",
       "      <td>(YouthBks)</td>\n",
       "    </tr>\n",
       "    <tr>\n",
       "      <th>2</th>\n",
       "      <td>0.4310</td>\n",
       "      <td>(CookBks)</td>\n",
       "    </tr>\n",
       "    <tr>\n",
       "      <th>3</th>\n",
       "      <td>0.2820</td>\n",
       "      <td>(DoItYBks)</td>\n",
       "    </tr>\n",
       "    <tr>\n",
       "      <th>4</th>\n",
       "      <td>0.2145</td>\n",
       "      <td>(RefBks)</td>\n",
       "    </tr>\n",
       "    <tr>\n",
       "      <th>5</th>\n",
       "      <td>0.2410</td>\n",
       "      <td>(ArtBks)</td>\n",
       "    </tr>\n",
       "    <tr>\n",
       "      <th>6</th>\n",
       "      <td>0.2760</td>\n",
       "      <td>(GeogBks)</td>\n",
       "    </tr>\n",
       "    <tr>\n",
       "      <th>7</th>\n",
       "      <td>0.2560</td>\n",
       "      <td>(ChildBks, CookBks)</td>\n",
       "    </tr>\n",
       "  </tbody>\n",
       "</table>\n",
       "</div>"
      ],
      "text/plain": [
       "   support             itemsets\n",
       "0   0.4230           (ChildBks)\n",
       "1   0.2475           (YouthBks)\n",
       "2   0.4310            (CookBks)\n",
       "3   0.2820           (DoItYBks)\n",
       "4   0.2145             (RefBks)\n",
       "5   0.2410             (ArtBks)\n",
       "6   0.2760            (GeogBks)\n",
       "7   0.2560  (ChildBks, CookBks)"
      ]
     },
     "execution_count": 17,
     "metadata": {},
     "output_type": "execute_result"
    }
   ],
   "source": [
    "frequent_items3"
   ]
  },
  {
   "cell_type": "code",
   "execution_count": 18,
   "id": "d2fd68bc",
   "metadata": {
    "ExecuteTime": {
     "end_time": "2023-02-15T14:16:41.611445Z",
     "start_time": "2023-02-15T14:16:41.599352Z"
    }
   },
   "outputs": [],
   "source": [
    "model_3 = association_rules(frequent_items3, metric='lift',min_threshold=0.6)"
   ]
  },
  {
   "cell_type": "code",
   "execution_count": 19,
   "id": "a6d57449",
   "metadata": {
    "ExecuteTime": {
     "end_time": "2023-02-15T14:17:06.643911Z",
     "start_time": "2023-02-15T14:17:06.605956Z"
    }
   },
   "outputs": [
    {
     "data": {
      "text/html": [
       "<div>\n",
       "<style scoped>\n",
       "    .dataframe tbody tr th:only-of-type {\n",
       "        vertical-align: middle;\n",
       "    }\n",
       "\n",
       "    .dataframe tbody tr th {\n",
       "        vertical-align: top;\n",
       "    }\n",
       "\n",
       "    .dataframe thead th {\n",
       "        text-align: right;\n",
       "    }\n",
       "</style>\n",
       "<table border=\"1\" class=\"dataframe\">\n",
       "  <thead>\n",
       "    <tr style=\"text-align: right;\">\n",
       "      <th></th>\n",
       "      <th>antecedents</th>\n",
       "      <th>consequents</th>\n",
       "      <th>antecedent support</th>\n",
       "      <th>consequent support</th>\n",
       "      <th>support</th>\n",
       "      <th>confidence</th>\n",
       "      <th>lift</th>\n",
       "      <th>leverage</th>\n",
       "      <th>conviction</th>\n",
       "    </tr>\n",
       "  </thead>\n",
       "  <tbody>\n",
       "    <tr>\n",
       "      <th>0</th>\n",
       "      <td>(ChildBks)</td>\n",
       "      <td>(CookBks)</td>\n",
       "      <td>0.423</td>\n",
       "      <td>0.431</td>\n",
       "      <td>0.256</td>\n",
       "      <td>0.605201</td>\n",
       "      <td>1.404179</td>\n",
       "      <td>0.073687</td>\n",
       "      <td>1.441240</td>\n",
       "    </tr>\n",
       "    <tr>\n",
       "      <th>1</th>\n",
       "      <td>(CookBks)</td>\n",
       "      <td>(ChildBks)</td>\n",
       "      <td>0.431</td>\n",
       "      <td>0.423</td>\n",
       "      <td>0.256</td>\n",
       "      <td>0.593968</td>\n",
       "      <td>1.404179</td>\n",
       "      <td>0.073687</td>\n",
       "      <td>1.421069</td>\n",
       "    </tr>\n",
       "  </tbody>\n",
       "</table>\n",
       "</div>"
      ],
      "text/plain": [
       "  antecedents consequents  antecedent support  consequent support  support  confidence      lift  leverage  conviction\n",
       "0  (ChildBks)   (CookBks)               0.423               0.431    0.256    0.605201  1.404179  0.073687    1.441240\n",
       "1   (CookBks)  (ChildBks)               0.431               0.423    0.256    0.593968  1.404179  0.073687    1.421069"
      ]
     },
     "execution_count": 19,
     "metadata": {},
     "output_type": "execute_result"
    }
   ],
   "source": [
    "model_3"
   ]
  },
  {
   "cell_type": "code",
   "execution_count": 20,
   "id": "11b74b91",
   "metadata": {
    "ExecuteTime": {
     "end_time": "2023-02-15T14:17:34.483157Z",
     "start_time": "2023-02-15T14:17:34.297315Z"
    }
   },
   "outputs": [
    {
     "data": {
      "image/png": "[encoded data removed]",
      "text/plain": [
       "<Figure size 640x480 with 1 Axes>"
      ]
     },
     "metadata": {},
     "output_type": "display_data"
    }
   ],
   "source": [
    "plt.scatter(model_3['support'],model_3['confidence'])\n",
    "plt.xlabel('support')\n",
    "plt.ylabel('confidence') \n",
    "plt.show()"
   ]
  }
 ],
 "metadata": {
  "kernelspec": {
   "display_name": "Python 3 (ipykernel)",
   "language": "python",
   "name": "python3"
  },
  "language_info": {
   "codemirror_mode": {
    "name": "ipython",
    "version": 3
   },
   "file_extension": ".py",
   "mimetype": "text/x-python",
   "name": "python",
   "nbconvert_exporter": "python",
   "pygments_lexer": "ipython3",
   "version": "3.9.13"
  }
 },
 "nbformat": 4,
 "nbformat_minor": 5
}
